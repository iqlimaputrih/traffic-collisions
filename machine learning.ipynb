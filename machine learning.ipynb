{
 "cells": [
  {
   "cell_type": "code",
   "execution_count": null,
   "id": "03873922",
   "metadata": {},
   "outputs": [],
   "source": [
    "# read dataset\n",
    "import pandas as pd\n",
    "\n",
    "# use 'copy as path' to make sure file path is right\n",
    "file_path = r\"E:\\school\\2. project\\traffic collisions\\traffic_collisions.csv\"\n",
    "data = pd.read_csv(file_path, low_memory=False) # low_memory=False to avoid DtypeWarning"
   ]
  },
  {
   "cell_type": "code",
   "execution_count": 41,
   "id": "e561f7df",
   "metadata": {},
   "outputs": [
    {
     "name": "stdout",
     "output_type": "stream",
     "text": [
      "<class 'pandas.core.frame.DataFrame'>\n",
      "RangeIndex: 198837 entries, 0 to 198836\n",
      "Data columns (total 39 columns):\n",
      " #   Column                         Non-Null Count   Dtype  \n",
      "---  ------                         --------------   -----  \n",
      " 0   Report Number                  198837 non-null  object \n",
      " 1   Local Case Number              198837 non-null  object \n",
      " 2   Agency Name                    198837 non-null  object \n",
      " 3   ACRS Report Type               198837 non-null  object \n",
      " 4   Crash Date/Time                198837 non-null  object \n",
      " 5   Route Type                     179377 non-null  object \n",
      " 6   Road Name                      177021 non-null  object \n",
      " 7   Cross-Street Name              165999 non-null  object \n",
      " 8   Off-Road Description           18420 non-null   object \n",
      " 9   Municipality                   19126 non-null   object \n",
      " 10  Related Non-Motorist           6423 non-null    object \n",
      " 11  Collision Type                 198252 non-null  object \n",
      " 12  Weather                        185481 non-null  object \n",
      " 13  Surface Condition              176116 non-null  object \n",
      " 14  Light                          197392 non-null  object \n",
      " 15  Traffic Control                170926 non-null  object \n",
      " 16  Driver Substance Abuse         167517 non-null  object \n",
      " 17  Non-Motorist Substance Abuse   5277 non-null    object \n",
      " 18  Person ID                      198837 non-null  object \n",
      " 19  Driver At Fault                198837 non-null  object \n",
      " 20  Injury Severity                197112 non-null  object \n",
      " 21  Circumstance                   38053 non-null   object \n",
      " 22  Driver Distracted By           196971 non-null  object \n",
      " 23  Drivers License State          185843 non-null  object \n",
      " 24  Vehicle ID                     198837 non-null  object \n",
      " 25  Vehicle Damage Extent          198521 non-null  object \n",
      " 26  Vehicle First Impact Location  198681 non-null  object \n",
      " 27  Vehicle Body Type              195857 non-null  object \n",
      " 28  Vehicle Movement               197557 non-null  object \n",
      " 29  Vehicle Going Dir              191519 non-null  object \n",
      " 30  Speed Limit                    198837 non-null  int64  \n",
      " 31  Driverless Vehicle             198837 non-null  object \n",
      " 32  Parked Vehicle                 197310 non-null  object \n",
      " 33  Vehicle Year                   198837 non-null  int64  \n",
      " 34  Vehicle Make                   198084 non-null  object \n",
      " 35  Vehicle Model                  198042 non-null  object \n",
      " 36  Latitude                       198837 non-null  float64\n",
      " 37  Longitude                      198837 non-null  float64\n",
      " 38  Location                       198837 non-null  object \n",
      "dtypes: float64(2), int64(2), object(35)\n",
      "memory usage: 59.2+ MB\n"
     ]
    }
   ],
   "source": [
    "data.info()"
   ]
  },
  {
   "cell_type": "code",
   "execution_count": 38,
   "id": "49459ea4",
   "metadata": {},
   "outputs": [
    {
     "data": {
      "text/plain": [
       "Report Number                         0\n",
       "Local Case Number                     0\n",
       "Agency Name                           0\n",
       "ACRS Report Type                      0\n",
       "Crash Date/Time                       0\n",
       "Route Type                        19460\n",
       "Road Name                         21816\n",
       "Cross-Street Name                 32838\n",
       "Off-Road Description             180417\n",
       "Municipality                     179711\n",
       "Related Non-Motorist             192414\n",
       "Collision Type                      585\n",
       "Weather                           13356\n",
       "Surface Condition                 22721\n",
       "Light                              1445\n",
       "Traffic Control                   27911\n",
       "Driver Substance Abuse            31320\n",
       "Non-Motorist Substance Abuse     193560\n",
       "Person ID                             0\n",
       "Driver At Fault                       0\n",
       "Injury Severity                    1725\n",
       "Circumstance                     160784\n",
       "Driver Distracted By               1866\n",
       "Drivers License State             12994\n",
       "Vehicle ID                            0\n",
       "Vehicle Damage Extent               316\n",
       "Vehicle First Impact Location       156\n",
       "Vehicle Body Type                  2980\n",
       "Vehicle Movement                   1280\n",
       "Vehicle Going Dir                  7318\n",
       "Speed Limit                           0\n",
       "Driverless Vehicle                    0\n",
       "Parked Vehicle                     1527\n",
       "Vehicle Year                          0\n",
       "Vehicle Make                        753\n",
       "Vehicle Model                       795\n",
       "Latitude                              0\n",
       "Longitude                             0\n",
       "Location                              0\n",
       "dtype: int64"
      ]
     },
     "execution_count": 38,
     "metadata": {},
     "output_type": "execute_result"
    }
   ],
   "source": [
    "data.isnull().sum()"
   ]
  },
  {
   "cell_type": "code",
   "execution_count": null,
   "id": "7d95ca62",
   "metadata": {},
   "outputs": [],
   "source": []
  }
 ],
 "metadata": {
  "kernelspec": {
   "display_name": "Python 3",
   "language": "python",
   "name": "python3"
  },
  "language_info": {
   "codemirror_mode": {
    "name": "ipython",
    "version": 3
   },
   "file_extension": ".py",
   "mimetype": "text/x-python",
   "name": "python",
   "nbconvert_exporter": "python",
   "pygments_lexer": "ipython3",
   "version": "3.13.3"
  }
 },
 "nbformat": 4,
 "nbformat_minor": 5
}
